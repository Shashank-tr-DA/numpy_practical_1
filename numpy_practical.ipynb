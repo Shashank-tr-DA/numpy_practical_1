{
  "nbformat": 4,
  "nbformat_minor": 0,
  "metadata": {
    "colab": {
      "name": "numpy_practical.ipynb",
      "provenance": [],
      "collapsed_sections": [],
      "authorship_tag": "ABX9TyP07KMnLRqA1lEprlRUtA8B",
      "include_colab_link": true
    },
    "kernelspec": {
      "name": "python3",
      "display_name": "Python 3"
    }
  },
  "cells": [
    {
      "cell_type": "markdown",
      "metadata": {
        "id": "view-in-github",
        "colab_type": "text"
      },
      "source": [
        "<a href=\"https://colab.research.google.com/github/Shashank-tr-DA/numpy_practical_1/blob/master/numpy_practical.ipynb\" target=\"_parent\"><img src=\"https://colab.research.google.com/assets/colab-badge.svg\" alt=\"Open In Colab\"/></a>"
      ]
    },
    {
      "cell_type": "code",
      "metadata": {
        "id": "ctijc9rN5Keu",
        "colab_type": "code",
        "colab": {}
      },
      "source": [
        "#How to import numpy in our program to use its functions...\n",
        "#Use the import keyword \n",
        "'''\n",
        "we give a short name by aliasing to numpy because we use numpy frequently in  \n",
        "our program so it is easy to write np rather than numpy\n",
        "''' \n",
        "\n",
        "import numpy as np"
      ],
      "execution_count": 1,
      "outputs": []
    },
    {
      "cell_type": "code",
      "metadata": {
        "id": "-pdhVg3s6BcC",
        "colab_type": "code",
        "colab": {
          "base_uri": "https://localhost:8080/",
          "height": 34
        },
        "outputId": "ad1036a2-3ed3-421b-b22f-80843f98d42a"
      },
      "source": [
        "'''\n",
        "Now we see how to create numpy array by different methods.. So lets see.\n",
        "'''\n",
        "\n",
        "# 1. Using python list\n",
        "\n",
        " # First define a list\n",
        "\n",
        "list_1 = [1, 2, 3, 4, 5, 6]\n",
        "\n",
        " # Now create array by using array function\n",
        "\n",
        "arr_1 = np.array(list_1)\n",
        "  \n",
        "print(arr_1)                               "
      ],
      "execution_count": 5,
      "outputs": [
        {
          "output_type": "stream",
          "text": [
            "[1 2 3 4 5 6]\n"
          ],
          "name": "stdout"
        }
      ]
    },
    {
      "cell_type": "code",
      "metadata": {
        "id": "8Bqxj03R7ICx",
        "colab_type": "code",
        "colab": {
          "base_uri": "https://localhost:8080/",
          "height": 34
        },
        "outputId": "ec4f0634-cb3b-4409-d79c-33aedafa3436"
      },
      "source": [
        "# 2. We can also create array by just simply passing the list inside the array function\n",
        "\n",
        "arr_2 = np.array([1, 2, 3, 4, 5, 6])\n",
        "\n",
        "print(arr_2)"
      ],
      "execution_count": 6,
      "outputs": [
        {
          "output_type": "stream",
          "text": [
            "[1 2 3 4 5 6]\n"
          ],
          "name": "stdout"
        }
      ]
    },
    {
      "cell_type": "code",
      "metadata": {
        "id": "pFbB53P77t48",
        "colab_type": "code",
        "colab": {
          "base_uri": "https://localhost:8080/",
          "height": 34
        },
        "outputId": "1ec7d1bd-a5a2-4e1b-e920-ac615fdbafc0"
      },
      "source": [
        "# 3. We can also create an array by list comprehension\n",
        "\n",
        "arr_3 = np.array([i for i in range(9)])\n",
        "\n",
        "print(arr_3)"
      ],
      "execution_count": 7,
      "outputs": [
        {
          "output_type": "stream",
          "text": [
            "[0 1 2 3 4 5 6 7 8]\n"
          ],
          "name": "stdout"
        }
      ]
    },
    {
      "cell_type": "code",
      "metadata": {
        "id": "YAqVUTs08wMR",
        "colab_type": "code",
        "colab": {
          "base_uri": "https://localhost:8080/",
          "height": 51
        },
        "outputId": "2ed076e9-21c0-46b0-9aa4-1f79875d3ba3"
      },
      "source": [
        "# 4. One more take a look\n",
        "\n",
        "arr_4 = np.array(list(map(int, input(\"Enter array elements = \").split())))\n",
        "\n",
        "print(arr_4)"
      ],
      "execution_count": 9,
      "outputs": [
        {
          "output_type": "stream",
          "text": [
            "Enter array elements = 1 2 3 4 5 6 7 8\n",
            "[1 2 3 4 5 6 7 8]\n"
          ],
          "name": "stdout"
        }
      ]
    },
    {
      "cell_type": "code",
      "metadata": {
        "id": "0Bv2Q7aj9CLy",
        "colab_type": "code",
        "colab": {}
      },
      "source": [
        "'''\n",
        "These are all the method by which you can make an array..\n",
        "there are lot of more functions by which we can also create array but these \n",
        "are fundamentals..\n",
        "\n",
        "we take a look on all functions of numpy \n",
        "\n",
        "Happy learning\n",
        "\n",
        "'''"
      ],
      "execution_count": null,
      "outputs": []
    }
  ]
}